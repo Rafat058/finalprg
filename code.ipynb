{
 "cells": [
  {
   "cell_type": "code",
   "execution_count": 1,
   "metadata": {},
   "outputs": [
    {
     "name": "stdout",
     "output_type": "stream",
     "text": [
      "Requirement already satisfied: pyserial in c:\\users\\rbmra\\appdata\\local\\programs\\python\\python39\\lib\\site-packages (3.5)\n",
      "Note: you may need to restart the kernel to use updated packages.\n"
     ]
    },
    {
     "name": "stderr",
     "output_type": "stream",
     "text": [
      "\n",
      "[notice] A new release of pip is available: 23.3.1 -> 24.0\n",
      "[notice] To update, run: python.exe -m pip install --upgrade pip\n"
     ]
    }
   ],
   "source": [
    "%pip install pyserial\n"
   ]
  },
  {
   "cell_type": "code",
   "execution_count": 2,
   "metadata": {},
   "outputs": [
    {
     "name": "stdout",
     "output_type": "stream",
     "text": [
      "Requirement already satisfied: pandas in c:\\users\\rbmra\\appdata\\roaming\\python\\python39\\site-packages (2.1.3)\n",
      "Requirement already satisfied: numpy<2,>=1.22.4 in c:\\users\\rbmra\\appdata\\local\\programs\\python\\python39\\lib\\site-packages (from pandas) (1.26.1)\n",
      "Requirement already satisfied: python-dateutil>=2.8.2 in c:\\users\\rbmra\\appdata\\roaming\\python\\python39\\site-packages (from pandas) (2.8.2)\n",
      "Requirement already satisfied: pytz>=2020.1 in c:\\users\\rbmra\\appdata\\local\\programs\\python\\python39\\lib\\site-packages (from pandas) (2023.3.post1)\n",
      "Requirement already satisfied: tzdata>=2022.1 in c:\\users\\rbmra\\appdata\\local\\programs\\python\\python39\\lib\\site-packages (from pandas) (2023.3)\n",
      "Requirement already satisfied: six>=1.5 in c:\\users\\rbmra\\appdata\\roaming\\python\\python39\\site-packages (from python-dateutil>=2.8.2->pandas) (1.16.0)\n",
      "Note: you may need to restart the kernel to use updated packages.\n"
     ]
    },
    {
     "name": "stderr",
     "output_type": "stream",
     "text": [
      "\n",
      "[notice] A new release of pip is available: 23.3.1 -> 24.0\n",
      "[notice] To update, run: python.exe -m pip install --upgrade pip\n"
     ]
    }
   ],
   "source": [
    "%pip install pandas\n"
   ]
  },
  {
   "cell_type": "code",
   "execution_count": 1,
   "metadata": {},
   "outputs": [
    {
     "name": "stdout",
     "output_type": "stream",
     "text": [
      "Data saved to CSV file: hourly_data\\data_2024-02-22_21.csv\n",
      "Data saved to CSV file: hourly_data\\data_2024-02-22_22.csv\n",
      "Data saved to CSV file: hourly_data\\data_2024-02-22_23.csv\n"
     ]
    }
   ],
   "source": [
    "#Code 1: Data Acquisition and Hourly Storage\n",
    "#%pip install pyserial\n",
    "#%pip install pandas\n",
    "import serial\n",
    "import pandas as pd\n",
    "from datetime import datetime\n",
    "import os\n",
    "import time  # Add this line to import the time module\n",
    "\n",
    "# Serial port configuration\n",
    "ser = serial.Serial('COM4', 9600)  # Replace 'COM4' with your serial port\n",
    "ser.timeout = 1  # Set timeout to wait for data\n",
    "\n",
    "data_list = []  # List to store received data\n",
    "\n",
    "try:\n",
    "    while True:\n",
    "        # Read data from serial port\n",
    "        line = ser.readline().decode().strip()\n",
    "        data = line.split(',')\n",
    "        if len(data) == 3:\n",
    "            voltage = float(data[0])\n",
    "            current = float(data[1])\n",
    "            power = float(data[2])\n",
    "            timestamp = datetime.now().strftime(\"%Y-%m-%d_%H-%M-%S\")\n",
    "\n",
    "            data_list.append({'Timestamp': timestamp, 'Voltage': voltage, 'Current': current, 'Power': power})\n",
    "\n",
    "            # Save data to CSV file every hour\n",
    "            if datetime.now().minute == 0 and datetime.now().second == 0:  # Check if the hour has changed\n",
    "                hour_timestamp = datetime.now().strftime(\"%Y-%m-%d_%H\")\n",
    "                filename = f\"data_{hour_timestamp}.csv\"\n",
    "                filepath = os.path.join(\"hourly_data\", filename)\n",
    "\n",
    "                if not os.path.exists(\"hourly_data\"):\n",
    "                    os.makedirs(\"hourly_data\")\n",
    "\n",
    "                data_df = pd.DataFrame(data_list)\n",
    "                data_df.to_csv(filepath, index=False)\n",
    "                print(f\"Data saved to CSV file: {filepath}\")\n",
    "\n",
    "                # Clear data list for the next hour\n",
    "                data_list = []\n",
    "\n",
    "        time.sleep(1)  # Wait for 1 second before checking for new data\n",
    "\n",
    "except KeyboardInterrupt:\n",
    "    ser.close()"
   ]
  }
 ],
 "metadata": {
  "kernelspec": {
   "display_name": "Python 3",
   "language": "python",
   "name": "python3"
  },
  "language_info": {
   "codemirror_mode": {
    "name": "ipython",
    "version": 3
   },
   "file_extension": ".py",
   "mimetype": "text/x-python",
   "name": "python",
   "nbconvert_exporter": "python",
   "pygments_lexer": "ipython3",
   "version": "3.9.13"
  }
 },
 "nbformat": 4,
 "nbformat_minor": 2
}
